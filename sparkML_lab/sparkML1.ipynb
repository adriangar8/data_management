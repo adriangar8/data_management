{
 "cells": [
  {
   "cell_type": "markdown",
   "metadata": {},
   "source": [
    "# Spark\n",
    "\n",
    "## MLIB Lab 1\n",
    "\n",
    "### Adrian Garcia and Pol Medina\n",
    "#### Data Management | AI Degree - UAB"
   ]
  },
  {
   "cell_type": "markdown",
   "metadata": {},
   "source": [
    "<div class=\"alert alert-block alert-warning\">\n",
    "            <b>In the first cells we are following the tutorial. If you want to directly jump into the exercises:</b>\n",
    "</div>\n",
    "\n",
    "> [For question 1 click here.](#Question-1:)\n",
    "\n",
    "> [For question 2 click here.](#Question-2:)\n",
    "\n",
    "> [For question 3 click here.](#Question-3:)\n",
    "\n",
    "> [For question 4 click here.](#Question-4:)\n",
    "\n",
    "> [For question 5 click here.](#Question-5:)"
   ]
  },
  {
   "cell_type": "code",
   "execution_count": 2,
   "metadata": {},
   "outputs": [],
   "source": [
    "import findspark\n",
    "findspark.init(\"/home/alumno/Escritorio/spark/spark-3.2.2-bin-hadoop2.7\")\n",
    "\n",
    "from pyspark import SparkContext, SparkConf\n",
    "from pyspark.sql import SparkSession\n",
    "\n",
    "conf=SparkConf().setAppName(\"intro\").setMaster(\"local\")\n",
    "sc = SparkContext(conf=conf)\n",
    "spark=SparkSession(sc)"
   ]
  },
  {
   "cell_type": "markdown",
   "metadata": {},
   "source": [
    "# **1. Spark ML introduction**"
   ]
  },
  {
   "cell_type": "code",
   "execution_count": 3,
   "metadata": {},
   "outputs": [
    {
     "name": "stdout",
     "output_type": "stream",
     "text": [
      "root\n",
      " |-- movieId: integer (nullable = true)\n",
      " |-- title: string (nullable = true)\n",
      " |-- genres: string (nullable = true)\n",
      "\n",
      "root\n",
      " |-- userId: integer (nullable = true)\n",
      " |-- movieId: integer (nullable = true)\n",
      " |-- rating: double (nullable = true)\n",
      " |-- timestamp: integer (nullable = true)\n",
      "\n"
     ]
    }
   ],
   "source": [
    "movies_csv=\"/home/alumno/Descargas/ml-latest-small/movies.csv\"\n",
    "ratings_csv=\"/home/alumno/Descargas/ml-latest-small/ratings.csv\"\n",
    "\n",
    "moviesDF=spark.read.option(\"header\",True).csv(movies_csv, inferSchema=True)\n",
    "ratingsDF=spark.read.option(\"header\",True).csv(ratings_csv, inferSchema=True)\n",
    "\n",
    "moviesDF.printSchema()\n",
    "ratingsDF.printSchema()"
   ]
  },
  {
   "cell_type": "markdown",
   "metadata": {},
   "source": [
    "# **2. Join input DataFrames**"
   ]
  },
  {
   "cell_type": "code",
   "execution_count": 4,
   "metadata": {},
   "outputs": [
    {
     "name": "stdout",
     "output_type": "stream",
     "text": [
      "+-------+----------------+------------------+------------------+--------------------+--------------------+------------------+\n",
      "|summary|         movieId|            userId|            rating|           timestamp|               title|            genres|\n",
      "+-------+----------------+------------------+------------------+--------------------+--------------------+------------------+\n",
      "|  count|          100836|            100836|            100836|              100836|              100836|            100836|\n",
      "|   mean|19435.2957177992|326.12756356856676| 3.501556983616962|1.2059460873684695E9|                null|              null|\n",
      "| stddev|35530.9871987003| 182.6184914635004|1.0425292390606342|2.1626103599513078E8|                null|              null|\n",
      "|    min|               1|                 1|               0.5|           828124615|\"11'09\"\"01 - Sept...|(no genres listed)|\n",
      "|    25%|            1199|               177|               3.0|          1018535155|                null|              null|\n",
      "|    50%|            2991|               325|               3.5|          1186086516|                null|              null|\n",
      "|    75%|            8092|               477|               4.0|          1435993828|                null|              null|\n",
      "|    max|          193609|               610|               5.0|          1537799250|À nous la liberté...|           Western|\n",
      "+-------+----------------+------------------+------------------+--------------------+--------------------+------------------+\n",
      "\n"
     ]
    }
   ],
   "source": [
    "features = ratingsDF.join(moviesDF, [\"movieId\"], \"left\")\n",
    "\n",
    "features.summary().show()"
   ]
  },
  {
   "cell_type": "code",
   "execution_count": 5,
   "metadata": {},
   "outputs": [
    {
     "name": "stdout",
     "output_type": "stream",
     "text": [
      "root\n",
      " |-- movieId: integer (nullable = true)\n",
      " |-- userId: integer (nullable = true)\n",
      " |-- rating: double (nullable = true)\n",
      " |-- timestamp: integer (nullable = true)\n",
      " |-- title: string (nullable = true)\n",
      " |-- genres: string (nullable = true)\n",
      "\n"
     ]
    }
   ],
   "source": [
    "features.printSchema()"
   ]
  },
  {
   "cell_type": "code",
   "execution_count": 6,
   "metadata": {},
   "outputs": [
    {
     "name": "stdout",
     "output_type": "stream",
     "text": [
      "+-------+------+------+---------+---------------------------+-------------------------------------------+\n",
      "|movieId|userId|rating|timestamp|title                      |genres                                     |\n",
      "+-------+------+------+---------+---------------------------+-------------------------------------------+\n",
      "|1      |1     |4.0   |964982703|Toy Story (1995)           |Adventure|Animation|Children|Comedy|Fantasy|\n",
      "|3      |1     |4.0   |964981247|Grumpier Old Men (1995)    |Comedy|Romance                             |\n",
      "|6      |1     |4.0   |964982224|Heat (1995)                |Action|Crime|Thriller                      |\n",
      "|47     |1     |5.0   |964983815|Seven (a.k.a. Se7en) (1995)|Mystery|Thriller                           |\n",
      "|50     |1     |5.0   |964982931|Usual Suspects, The (1995) |Crime|Mystery|Thriller                     |\n",
      "|70     |1     |3.0   |964982400|From Dusk Till Dawn (1996) |Action|Comedy|Horror|Thriller              |\n",
      "|101    |1     |5.0   |964980868|Bottle Rocket (1996)       |Adventure|Comedy|Crime|Romance             |\n",
      "|110    |1     |4.0   |964982176|Braveheart (1995)          |Action|Drama|War                           |\n",
      "|151    |1     |5.0   |964984041|Rob Roy (1995)             |Action|Drama|Romance|War                   |\n",
      "|157    |1     |5.0   |964984100|Canadian Bacon (1995)      |Comedy|War                                 |\n",
      "+-------+------+------+---------+---------------------------+-------------------------------------------+\n",
      "only showing top 10 rows\n",
      "\n"
     ]
    }
   ],
   "source": [
    "features.show(10, truncate=False)"
   ]
  },
  {
   "cell_type": "markdown",
   "metadata": {},
   "source": [
    "---\n",
    "\n",
    "### **Question 1:**\n",
    "\n",
    "***Which one of the following options is correct regarding the requirements of ML algorithms in MLlib?***\n",
    "\n",
    "---\n",
    "\n",
    "**Answer:** C: movieId, userId, rating, and timestamp can all be used as features because their data type is numeric\n",
    "\n",
    "**Reasoning:** The answer C is correct because all the available data is of the type numeric, which is an intrinsic requirement from MLlib: numeric data."
   ]
  },
  {
   "cell_type": "markdown",
   "metadata": {},
   "source": [
    "## **3. Preparation of input data for model building and testing**"
   ]
  },
  {
   "cell_type": "code",
   "execution_count": 7,
   "metadata": {},
   "outputs": [],
   "source": [
    "(trainDF, tempDF) = features.randomSplit([0.8, 0.2], seed=1)"
   ]
  },
  {
   "cell_type": "markdown",
   "metadata": {},
   "source": [
    "___\n",
    "\n",
    "### **Question 2:**\n",
    "\n",
    "***Draw the result of join operations left-semi and left-anti in a simple schema with two sets (red and yellow) with some elements in common:***\n",
    "\n",
    "---"
   ]
  },
  {
   "cell_type": "markdown",
   "metadata": {},
   "source": [
    "**Self Notes:**\n",
    "\n",
    "Left-semi: El DF de la izquierda se compara con el de la derecha con la variable determinada. Todas las IDs que coincidan, se guardaran sus datos provenientes del DF izquierdo.\n",
    "\n",
    "Leff- anti: Cogere todos los datos de todas las IDs de mi DF de la izquierda siempre que no coincidan con ninguna ID de la derecha."
   ]
  },
  {
   "cell_type": "code",
   "execution_count": 8,
   "metadata": {},
   "outputs": [
    {
     "name": "stdout",
     "output_type": "stream",
     "text": [
      "root\n",
      " |-- movieId: integer (nullable = true)\n",
      " |-- userId: integer (nullable = true)\n",
      " |-- rating: double (nullable = true)\n",
      " |-- timestamp: integer (nullable = true)\n",
      " |-- title: string (nullable = true)\n",
      " |-- genres: string (nullable = true)\n",
      "\n",
      "100836\n",
      "81303\n",
      "19533\n"
     ]
    }
   ],
   "source": [
    "validationDF = (tempDF.join(trainDF, [\"userId\"], \"left_semi\")\n",
    "                      .join(trainDF, [\"movieId\"], \"left_semi\"))\n",
    "\n",
    "nonMatch = tempDF.join(validationDF, [\"movieId\", \"userId\"], \"left_anti\")\n",
    "\n",
    "trainDF = trainDF.union(nonMatch)\n",
    "\n",
    "validationDF.printSchema()\n",
    "\n",
    "print(features.count())\n",
    "print(trainDF.count())\n",
    "print(validationDF.count())"
   ]
  },
  {
   "cell_type": "code",
   "execution_count": 9,
   "metadata": {},
   "outputs": [
    {
     "name": "stdout",
     "output_type": "stream",
     "text": [
      "+------+-------+------+\n",
      "|userId|movieId|rating|\n",
      "+------+-------+------+\n",
      "|     1|      1|   4.0|\n",
      "|     5|      1|   4.0|\n",
      "|     7|      1|   4.5|\n",
      "|    15|      1|   2.5|\n",
      "|    18|      1|   3.5|\n",
      "+------+-------+------+\n",
      "only showing top 5 rows\n",
      "\n"
     ]
    }
   ],
   "source": [
    "trainDF.select(\"userId\",\"movieId\",\"rating\").show(5)"
   ]
  },
  {
   "cell_type": "code",
   "execution_count": 10,
   "metadata": {},
   "outputs": [
    {
     "data": {
      "text/plain": [
       "Text(0.5, 0, 'Rating')"
      ]
     },
     "execution_count": 10,
     "metadata": {},
     "output_type": "execute_result"
    },
    {
     "data": {
      "image/png": "[encoded data removed]",
      "text/plain": [
       "<Figure size 432x288 with 1 Axes>"
      ]
     },
     "metadata": {
      "needs_background": "light"
     },
     "output_type": "display_data"
    }
   ],
   "source": [
    "import matplotlib.pyplot as plt\n",
    "import seaborn as sns\n",
    "\n",
    "ratingPandas=ratingsDF.select(\"rating\").collect()\n",
    "\n",
    "\n",
    "ratingList=[ratingPandas[i][0] for i in range(len(ratingPandas))]\n",
    "plt.hist(ratingList, bins=[0.5, 1.5, 2.5, 3.5, 4.5, 5.5], alpha=0.5, histtype='stepfilled')\n",
    "plt.ylabel('Frequency')\n",
    "plt.xlabel('Rating')"
   ]
  },
  {
   "cell_type": "markdown",
   "metadata": {},
   "source": [
    "# **4. Recommendation model: ALS matrix factorization model**"
   ]
  },
  {
   "cell_type": "markdown",
   "metadata": {},
   "source": [
    "**Notes:**\n",
    "\n",
    "*Collaborative filtering: This technique assumes that if user A has the same opinion as user B on an issue, A is more likely to have B's (similar) opinion on another different issue.*"
   ]
  },
  {
   "cell_type": "code",
   "execution_count": 11,
   "metadata": {
    "scrolled": true
   },
   "outputs": [
    {
     "name": "stdout",
     "output_type": "stream",
     "text": [
      "+-------+------+------+----------+--------------------------+-------------------------------------------+----------+\n",
      "|movieId|userId|rating|timestamp |title                     |genres                                     |prediction|\n",
      "+-------+------+------+----------+--------------------------+-------------------------------------------+----------+\n",
      "|1      |471   |5.0   |1496671820|Toy Story (1995)          |Adventure|Animation|Children|Comedy|Fantasy|3.7205272 |\n",
      "|296    |463   |4.0   |1145460490|Pulp Fiction (1994)       |Comedy|Crime|Drama|Thriller                |4.0353074 |\n",
      "|296    |471   |4.0   |1496671827|Pulp Fiction (1994)       |Comedy|Crime|Drama|Thriller                |3.9463596 |\n",
      "|1092   |463   |3.0   |1145460035|Basic Instinct (1992)     |Crime|Mystery|Thriller                     |3.0486786 |\n",
      "|1197   |148   |3.0   |1482548478|Princess Bride, The (1987)|Action|Adventure|Comedy|Fantasy|Romance    |3.6448712 |\n",
      "+-------+------+------+----------+--------------------------+-------------------------------------------+----------+\n",
      "only showing top 5 rows\n",
      "\n"
     ]
    }
   ],
   "source": [
    "from pyspark.ml.recommendation import ALS\n",
    "\n",
    "als = ALS(userCol=\"userId\", itemCol=\"movieId\", ratingCol=\"rating\")\n",
    "\n",
    "model = als.fit(trainDF) # create the transformer and train it \n",
    "\n",
    "predDF = model.transform(validationDF) # transform (predict) the val set\n",
    "predDF.show(5, truncate=False)"
   ]
  },
  {
   "cell_type": "code",
   "execution_count": 12,
   "metadata": {},
   "outputs": [
    {
     "data": {
      "text/plain": [
       "0.2678298836967642"
      ]
     },
     "execution_count": 12,
     "metadata": {},
     "output_type": "execute_result"
    }
   ],
   "source": [
    "from pyspark.ml.evaluation import RegressionEvaluator\n",
    "\n",
    "regEvaluator = RegressionEvaluator(predictionCol=\"prediction\", labelCol=\"rating\")\n",
    "r2 = regEvaluator.setMetricName(\"r2\").evaluate(predDF)\n",
    "\n",
    "r2"
   ]
  },
  {
   "cell_type": "markdown",
   "metadata": {},
   "source": [
    "**Notes:**\n",
    "\n",
    "*An r2 value of 0.27 means that our model does not give very accurate results, since a regression evaluator should give values close to 1 for good predictions.*"
   ]
  },
  {
   "cell_type": "markdown",
   "metadata": {},
   "source": [
    "# **5. Generating item recommendations for users**"
   ]
  },
  {
   "cell_type": "code",
   "execution_count": 13,
   "metadata": {},
   "outputs": [
    {
     "name": "stderr",
     "output_type": "stream",
     "text": [
      "/home/alumno/Escritorio/spark/spark-3.2.2-bin-hadoop2.7/python/pyspark/sql/context.py:125: FutureWarning: Deprecated in 3.0.0. Use SparkSession.builder.getOrCreate() instead.\n",
      "  warnings.warn(\n"
     ]
    },
    {
     "name": "stdout",
     "output_type": "stream",
     "text": [
      "root\n",
      " |-- userId: integer (nullable = false)\n",
      " |-- recommendations: array (nullable = true)\n",
      " |    |-- element: struct (containsNull = true)\n",
      " |    |    |-- movieId: integer (nullable = true)\n",
      " |    |    |-- rating: float (nullable = true)\n",
      "\n",
      "+------+------------------------------------------------------------------------------------------------------+\n",
      "|userId|recommendations                                                                                       |\n",
      "+------+------------------------------------------------------------------------------------------------------+\n",
      "|1     |[{33649, 5.980285}, {5485, 5.8209505}, {1223, 5.6481094}, {93988, 5.6355076}, {177593, 5.6233187}]    |\n",
      "|2     |[{130518, 4.9719405}, {131724, 4.9047675}, {78836, 4.7301617}, {7071, 4.6919365}, {117531, 4.6919365}]|\n",
      "|3     |[{6835, 4.926823}, {5746, 4.926823}, {5181, 4.9250064}, {7991, 4.8482413}, {70946, 4.826568}]         |\n",
      "|4     |[{971, 5.46433}, {2070, 5.277354}, {7700, 5.071831}, {1212, 5.0274377}, {3706, 5.0120177}]            |\n",
      "|5     |[{25771, 5.315969}, {6818, 5.207459}, {8477, 5.051275}, {3266, 5.029246}, {7748, 4.950736}]           |\n",
      "+------+------------------------------------------------------------------------------------------------------+\n",
      "only showing top 5 rows\n",
      "\n"
     ]
    }
   ],
   "source": [
    "usersRec = model.recommendForAllUsers(5)\n",
    "\n",
    "usersRec.printSchema()\n",
    "\n",
    "usersRec.show(5, truncate=False)"
   ]
  },
  {
   "cell_type": "code",
   "execution_count": 14,
   "metadata": {},
   "outputs": [
    {
     "name": "stdout",
     "output_type": "stream",
     "text": [
      "+-------+--------------------+---------+\n",
      "|movieId|               title|   rating|\n",
      "+-------+--------------------+---------+\n",
      "| 177593|Three Billboards ...|5.6233187|\n",
      "|  93988|North & South (2004)|5.6355076|\n",
      "|   1223|Grand Day Out wit...|5.6481094|\n",
      "|   5485|      Tadpole (2002)|5.8209505|\n",
      "|  33649|  Saving Face (2004)| 5.980285|\n",
      "+-------+--------------------+---------+\n",
      "\n"
     ]
    }
   ],
   "source": [
    "from pyspark.sql.functions import col, explode, lit\n",
    "\n",
    "user = usersRec.first().userId\n",
    "\n",
    "movieRec1 = usersRec.filter(f\"userId == {user}\").withColumn(\"recs\",explode(\"recommendations\"))\n",
    "\n",
    "movieRec2 = movieRec1.select(\"userId\", col(\"recs\").movieId.alias(\"movieId\"),\n",
    "                                       col(\"recs\").rating.alias(\"rating\"))\n",
    "\n",
    "movieRec = movieRec2.join(moviesDF, \"movieId\")\n",
    "\n",
    "m = movieRec.orderBy(\"rating\", descending=True).select(\"movieId\", \"title\", \"rating\")\n",
    "\n",
    "m.show()"
   ]
  },
  {
   "cell_type": "markdown",
   "metadata": {},
   "source": [
    "---\n",
    "\n",
    "### **Question 3:**\n",
    "    \n",
    "Find the movies not rated by the previous user found. Consider that you can find all the ratings\n",
    "in ratingsDF. \n",
    "\n",
    "- What information can we find there? \n",
    "\n",
    "- What does it mean a user has not rated a particular movie?\n",
    "\n",
    "---\n",
    "\n",
    "We will have to work with the moviesDF and the ratingsDF dataframe to solve this exercise."
   ]
  },
  {
   "cell_type": "code",
   "execution_count": 15,
   "metadata": {},
   "outputs": [
    {
     "name": "stdout",
     "output_type": "stream",
     "text": [
      "+-------+--------------------+--------------------+\n",
      "|movieId|               title|              genres|\n",
      "+-------+--------------------+--------------------+\n",
      "|      1|    Toy Story (1995)|Adventure|Animati...|\n",
      "|      2|      Jumanji (1995)|Adventure|Childre...|\n",
      "|      3|Grumpier Old Men ...|      Comedy|Romance|\n",
      "|      4|Waiting to Exhale...|Comedy|Drama|Romance|\n",
      "|      5|Father of the Bri...|              Comedy|\n",
      "+-------+--------------------+--------------------+\n",
      "only showing top 5 rows\n",
      "\n",
      "+------+-------+------+---------+\n",
      "|userId|movieId|rating|timestamp|\n",
      "+------+-------+------+---------+\n",
      "|     1|      1|   4.0|964982703|\n",
      "|     1|      3|   4.0|964981247|\n",
      "|     1|      6|   4.0|964982224|\n",
      "|     1|     47|   5.0|964983815|\n",
      "|     1|     50|   5.0|964982931|\n",
      "+------+-------+------+---------+\n",
      "only showing top 5 rows\n",
      "\n"
     ]
    }
   ],
   "source": [
    "moviesDF.show(5)\n",
    "\n",
    "ratingsDF.show(5)"
   ]
  },
  {
   "cell_type": "markdown",
   "metadata": {},
   "source": [
    "We will extract a dataframe with all the information of all the movies that our target user has rated. After, we will remove those movies in a new dataframe, and there will only remain the movies that user hasn't rated yet."
   ]
  },
  {
   "cell_type": "code",
   "execution_count": 16,
   "metadata": {},
   "outputs": [],
   "source": [
    "userRatedDF = ratingsDF.filter(f\"userId == {user}\")\n",
    "userNotRatedDF = moviesDF.join(userRatedDF, [\"movieId\"], \"left_anti\")"
   ]
  },
  {
   "cell_type": "markdown",
   "metadata": {},
   "source": [
    "If we sum the number of rated movies with the number of not rated movies, the result should be the number of movies in total."
   ]
  },
  {
   "cell_type": "code",
   "execution_count": 17,
   "metadata": {},
   "outputs": [
    {
     "name": "stdout",
     "output_type": "stream",
     "text": [
      "There are 9742 movies in total.\n",
      "If we add the number of rated movies (232) with the number of not rated movies (9510), the result is of 9742 movies in total.\n"
     ]
    }
   ],
   "source": [
    "ratedMovies = userRatedDF.count()\n",
    "notRatedMovies = userNotRatedDF.count()\n",
    "totalMovies = moviesDF.count()\n",
    "\n",
    "print(f'There are {totalMovies} movies in total.')\n",
    "print(f'If we add the number of rated movies ({ratedMovies}) with the number of not rated movies ({notRatedMovies}), the result is of {ratedMovies+notRatedMovies} movies in total.')"
   ]
  },
  {
   "cell_type": "markdown",
   "metadata": {},
   "source": [
    "We have calculated that there are 232 films rated by target user and 9510 not rated by it.\n",
    "\n",
    "- **What information can we find there?** \n",
    "\n",
    "> The first thing we see is that there are more unrated than rated movies (as expected).\n",
    "\n",
    "> So, we can understand that the user still has a huge amount of films to watch, and probably some of them will be of the topic that the target user enjoys. But, as obvious, it is difficult to know which movies will the user like if we have to look for one over that huge catalog. With a recommender we will be able to filter out movies that for sure the user will not like.\n",
    "\n",
    "- **What does it mean a user has not rated a particular movie?**\n",
    "\n",
    "> This means that the user has either not seen that film or that the user has seen it but probably, since it didn't either liked it a lot or disliked it a lot, it didn't give any rating. A neutral movie.\n",
    "\n",
    "----"
   ]
  },
  {
   "cell_type": "markdown",
   "metadata": {},
   "source": [
    "--- \n",
    "\n",
    "### **Question 4:**\n",
    "    \n",
    "Show the predicted rating for the unrated movies of question 3. Output should be similar to:\n",
    "\n",
    "```\n",
    "+------+-------+----------+\n",
    "|userId|movieId|prediction|\n",
    "+------+-------+----------+\n",
    "| 471  | 1580  | 3.0085273|\n",
    "| 471  | 2366  | 3.1742785|\n",
    "+------+-------+----------+\n",
    "```\n",
    "---\n",
    "\n",
    "We will show the predicted raitings only for our target user. However, we have to compute all the predictions for all users anyway.\n",
    "\n",
    "To do so, we will compute the prediction on all the movies and only retrieve the rated movies that our target user has not rated yet."
   ]
  },
  {
   "cell_type": "code",
   "execution_count": 18,
   "metadata": {
    "scrolled": false
   },
   "outputs": [
    {
     "name": "stdout",
     "output_type": "stream",
     "text": [
      "+-------+------+---------+--------------------+--------------------+\n",
      "|movieId|userId|   rating|               title|              genres|\n",
      "+-------+------+---------+--------------------+--------------------+\n",
      "|      2|     1|  4.07153|      Jumanji (1995)|Adventure|Childre...|\n",
      "|      4|     1|2.2209349|Waiting to Exhale...|Comedy|Drama|Romance|\n",
      "|      5|     1|3.3188996|Father of the Bri...|              Comedy|\n",
      "|      7|     1|3.7060962|      Sabrina (1995)|      Comedy|Romance|\n",
      "|      8|     1|2.8624778| Tom and Huck (1995)|  Adventure|Children|\n",
      "|      9|     1|2.5718884| Sudden Death (1995)|              Action|\n",
      "|     10|     1|4.2489505|    GoldenEye (1995)|Action|Adventure|...|\n",
      "|     11|     1| 4.013113|American Presiden...|Comedy|Drama|Romance|\n",
      "|     12|     1|2.8068328|Dracula: Dead and...|       Comedy|Horror|\n",
      "|     13|     1|3.4800568|        Balto (1995)|Adventure|Animati...|\n",
      "|     14|     1| 4.540156|        Nixon (1995)|               Drama|\n",
      "|     15|     1|3.0264602|Cutthroat Island ...|Action|Adventure|...|\n",
      "|     16|     1|4.6584625|       Casino (1995)|         Crime|Drama|\n",
      "|     17|     1|4.2521996|Sense and Sensibi...|       Drama|Romance|\n",
      "|     18|     1|4.0634155|   Four Rooms (1995)|              Comedy|\n",
      "|     19|     1|3.1965277|Ace Ventura: When...|              Comedy|\n",
      "|     20|     1| 2.552036|  Money Train (1995)|Action|Comedy|Cri...|\n",
      "|     21|     1|3.9921417|   Get Shorty (1995)|Comedy|Crime|Thri...|\n",
      "|     22|     1|3.5941606|      Copycat (1995)|Crime|Drama|Horro...|\n",
      "|     23|     1|3.5303588|    Assassins (1995)|Action|Crime|Thri...|\n",
      "+-------+------+---------+--------------------+--------------------+\n",
      "only showing top 20 rows\n",
      "\n"
     ]
    }
   ],
   "source": [
    "usersRec = model.recommendForAllUsers(totalMovies) # compute all recommendations\n",
    "\n",
    "# Filter by user (retrieve target)\n",
    "movieRec1 = usersRec.filter(f\"userId == {user}\").withColumn(\"recs\",explode(\"recommendations\"))\n",
    "\n",
    "# Select only user, movie and rating to display on dataframe\n",
    "movieRec2 = movieRec1.select(\"userId\", col(\"recs\").movieId.alias(\"movieId\"),\n",
    "                                       col(\"recs\").rating.alias(\"rating\"))\n",
    "\n",
    "# Only retrieve the predictions on movies that the user hasn't rated yet.\n",
    "movieRec = movieRec2.join(userNotRatedDF, \"movieId\")\n",
    "\n",
    "movieRec.show()"
   ]
  },
  {
   "cell_type": "markdown",
   "metadata": {},
   "source": [
    "---\n",
    "\n",
    "### Question 5: \n",
    "\n",
    "Show the top 10 movies with best predicted scores sorted by increasing values of ratings.\n",
    "\n",
    "---\n",
    "\n",
    "To do so, we will simply use the `.orderBy` method and use the descending attribute. Now we have the same list as before but sorted in ascending order."
   ]
  },
  {
   "cell_type": "code",
   "execution_count": 19,
   "metadata": {},
   "outputs": [
    {
     "name": "stdout",
     "output_type": "stream",
     "text": [
      "+-------+--------------------+----------+\n",
      "|movieId|               title|    rating|\n",
      "+-------+--------------------+----------+\n",
      "|  97024|Rust and Bone (De...|0.28545976|\n",
      "|   3604|        Gypsy (1962)|0.28563365|\n",
      "|   8772|Spy Who Came in f...|0.29160002|\n",
      "|  91414|Arthur Christmas ...|0.29160002|\n",
      "| 144352|   Unforgiven (2013)|0.29160002|\n",
      "|   6967|Dead of Night (1945)|0.33169904|\n",
      "|   5105|Don't Look Now (1...|0.33169904|\n",
      "|   7114|Collector, The (1...|0.33169904|\n",
      "|   7742|       Baxter (1989)|0.33169904|\n",
      "|  65350|General Died at D...|0.36139068|\n",
      "+-------+--------------------+----------+\n",
      "only showing top 10 rows\n",
      "\n"
     ]
    }
   ],
   "source": [
    "# Sort the ratings\n",
    "m = movieRec.orderBy(\"rating\", descending=False).select(\"movieId\", \"title\", \"rating\")\n",
    "\n",
    "m.show(10)"
   ]
  },
  {
   "cell_type": "markdown",
   "metadata": {},
   "source": [
    "We can make sure that we have predicted the unrated movies by checking that the number of predictions must be close to the number of unrated movies. \n",
    "\n",
    "We assume that both numbers are not equal because of nan values or problems in the regression calculation or lack of data."
   ]
  },
  {
   "cell_type": "code",
   "execution_count": 20,
   "metadata": {},
   "outputs": [
    {
     "name": "stdout",
     "output_type": "stream",
     "text": [
      "Unrated movies: 9510.\n",
      "Predicted movies: 9492.\n"
     ]
    }
   ],
   "source": [
    "print(f'Unrated movies: {userNotRatedDF.count()}.')\n",
    "print(f'Predicted movies: {m.count()}.')"
   ]
  }
 ],
 "metadata": {
  "kernelspec": {
   "display_name": "Python 3",
   "language": "python",
   "name": "python3"
  },
  "language_info": {
   "codemirror_mode": {
    "name": "ipython",
    "version": 3
   },
   "file_extension": ".py",
   "mimetype": "text/x-python",
   "name": "python",
   "nbconvert_exporter": "python",
   "pygments_lexer": "ipython3",
   "version": "3.8.10"
  }
 },
 "nbformat": 4,
 "nbformat_minor": 4
}
