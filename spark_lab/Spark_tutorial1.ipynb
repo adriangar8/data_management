{
 "cells": [
  {
   "cell_type": "markdown",
   "metadata": {},
   "source": [
    "# Data Analysis with Apache Spark\n",
    "\n",
    "## DataFrames 1\n",
    "\n",
    "### Adrian Garcia and Pol Medina\n",
    "#### Data Management | AI Degree - UAB"
   ]
  },
  {
   "cell_type": "markdown",
   "metadata": {},
   "source": [
    "In the first cells we are following the tutorial. If you want to directly jump into the first exercise, please click [here.](#Questions-are-answered-here:)"
   ]
  },
  {
   "cell_type": "code",
   "execution_count": 1,
   "metadata": {},
   "outputs": [],
   "source": [
    "import findspark\n",
    "\n",
    "findspark.init(\"/home/alumno/Escritorio/spark/spark-3.2.2-bin-hadoop2.7\")"
   ]
  },
  {
   "cell_type": "code",
   "execution_count": 2,
   "metadata": {},
   "outputs": [],
   "source": [
    "from pyspark import SparkContext, SparkConf\n",
    "\n",
    "conf = SparkConf().setAppName(\"intro\").setMaster(\"local\")\n",
    "sc = SparkContext(conf=conf)"
   ]
  },
  {
   "cell_type": "code",
   "execution_count": 3,
   "metadata": {
    "scrolled": true
   },
   "outputs": [],
   "source": [
    "from pyspark.sql import SparkSession\n",
    "from pyspark.sql.functions import expr, desc, asc\n",
    "\n",
    "spark = SparkSession(sc)"
   ]
  },
  {
   "cell_type": "markdown",
   "metadata": {},
   "source": [
    "Infer schema:"
   ]
  },
  {
   "cell_type": "code",
   "execution_count": 4,
   "metadata": {},
   "outputs": [],
   "source": [
    "c = spark.read.option(\"inferSchema\",\"true\").option(\"header\",\n",
    "\"true\").csv(\"/home/alumno/Escritorio/spark/customers.csv\")"
   ]
  },
  {
   "cell_type": "code",
   "execution_count": 5,
   "metadata": {},
   "outputs": [
    {
     "name": "stdout",
     "output_type": "stream",
     "text": [
      "root\n",
      " |-- date: string (nullable = true)\n",
      " |-- time: string (nullable = true)\n",
      " |-- customer: integer (nullable = true)\n",
      " |-- product: integer (nullable = true)\n",
      " |-- quantity: integer (nullable = true)\n",
      " |-- price: integer (nullable = true)\n",
      "\n"
     ]
    }
   ],
   "source": [
    "c.printSchema()"
   ]
  },
  {
   "cell_type": "code",
   "execution_count": 6,
   "metadata": {},
   "outputs": [
    {
     "name": "stdout",
     "output_type": "stream",
     "text": [
      "+----------+--------+--------+-------+--------+-----+\n",
      "|      date|    time|customer|product|quantity|price|\n",
      "+----------+--------+--------+-------+--------+-----+\n",
      "|05/10/2018| 2:20 PM|     100|      1|      10|  816|\n",
      "|06/10/2018| 3:30 PM|     100|      1|      10|    1|\n",
      "|07/10/2018| 5:20 PM|     100|      1|      10|   10|\n",
      "|04/08/2018|11:38 PM|     100|      2|       8|   79|\n",
      "|25/03/2018| 3:52 AM|     100|      3|       1|   91|\n",
      "+----------+--------+--------+-------+--------+-----+\n",
      "only showing top 5 rows\n",
      "\n"
     ]
    }
   ],
   "source": [
    "c.show(5)"
   ]
  },
  {
   "cell_type": "markdown",
   "metadata": {},
   "source": [
    "<div class=\"alert alert-block alert-warning\">\n",
    "            <b>Here we will import all the functions we will be using!</b>\n",
    "</div>"
   ]
  },
  {
   "cell_type": "code",
   "execution_count": 7,
   "metadata": {},
   "outputs": [],
   "source": [
    "from pyspark.sql.functions import expr, desc, asc"
   ]
  },
  {
   "cell_type": "code",
   "execution_count": 8,
   "metadata": {},
   "outputs": [
    {
     "name": "stdout",
     "output_type": "stream",
     "text": [
      "+--------+-------+\n",
      "|customer|product|\n",
      "+--------+-------+\n",
      "|     100|      1|\n",
      "|     100|      1|\n",
      "|     100|      1|\n",
      "|     100|      2|\n",
      "|     100|      3|\n",
      "|     100|      4|\n",
      "|     100|      5|\n",
      "|     100|      6|\n",
      "|     100|      7|\n",
      "|     100|      8|\n",
      "+--------+-------+\n",
      "only showing top 10 rows\n",
      "\n"
     ]
    }
   ],
   "source": [
    "c.select(\"customer\", \"product\").show(10)"
   ]
  },
  {
   "cell_type": "code",
   "execution_count": 9,
   "metadata": {},
   "outputs": [
    {
     "name": "stdout",
     "output_type": "stream",
     "text": [
      "+--------+-------+---+\n",
      "|customer|product|  q|\n",
      "+--------+-------+---+\n",
      "|     100|      1| 10|\n",
      "|     100|      1| 10|\n",
      "|     100|      1| 10|\n",
      "|     100|      2|  8|\n",
      "|     100|      3|  1|\n",
      "+--------+-------+---+\n",
      "only showing top 5 rows\n",
      "\n"
     ]
    }
   ],
   "source": [
    "c.select(expr(\"customer\"),\n",
    "         expr(\"product\"),\n",
    "         expr(\"quantity as q\")).show(5)"
   ]
  },
  {
   "cell_type": "code",
   "execution_count": 10,
   "metadata": {},
   "outputs": [
    {
     "name": "stdout",
     "output_type": "stream",
     "text": [
      "+-------+--------+\n",
      "|product|quantity|\n",
      "+-------+--------+\n",
      "|      1|      10|\n",
      "|      1|      10|\n",
      "|      1|      10|\n",
      "|      2|       8|\n",
      "|      3|       1|\n",
      "+-------+--------+\n",
      "only showing top 5 rows\n",
      "\n"
     ]
    }
   ],
   "source": [
    "c.select(\"product\", \"quantity\").show(5)"
   ]
  },
  {
   "cell_type": "code",
   "execution_count": 11,
   "metadata": {},
   "outputs": [
    {
     "name": "stdout",
     "output_type": "stream",
     "text": [
      "+----------+--------+--------+-------+--------+-----+\n",
      "|      date|    time|customer|product|quantity|price|\n",
      "+----------+--------+--------+-------+--------+-----+\n",
      "|05/10/2018| 2:20 PM|     100|      1|      10|  816|\n",
      "|06/10/2018| 3:30 PM|     100|      1|      10|    1|\n",
      "|07/10/2018| 5:20 PM|     100|      1|      10|   10|\n",
      "|04/08/2018|11:38 PM|     100|      2|       8|   79|\n",
      "|25/03/2018| 3:52 AM|     100|      3|       1|   91|\n",
      "+----------+--------+--------+-------+--------+-----+\n",
      "only showing top 5 rows\n",
      "\n"
     ]
    }
   ],
   "source": [
    "c.select(expr(\"*\")).show(5)"
   ]
  },
  {
   "cell_type": "code",
   "execution_count": 12,
   "metadata": {},
   "outputs": [
    {
     "name": "stdout",
     "output_type": "stream",
     "text": [
      "+--------------+\n",
      "|(quantity > 1)|\n",
      "+--------------+\n",
      "|          true|\n",
      "|          true|\n",
      "|          true|\n",
      "|          true|\n",
      "|         false|\n",
      "+--------------+\n",
      "only showing top 5 rows\n",
      "\n"
     ]
    }
   ],
   "source": [
    "c.select(expr(\"quantity > 1\")).show(5)"
   ]
  },
  {
   "cell_type": "code",
   "execution_count": 14,
   "metadata": {},
   "outputs": [
    {
     "name": "stdout",
     "output_type": "stream",
     "text": [
      "+-------+--------------+\n",
      "|product|(quantity > 1)|\n",
      "+-------+--------------+\n",
      "|      1|          true|\n",
      "|      1|          true|\n",
      "|      1|          true|\n",
      "|      2|          true|\n",
      "|      3|         false|\n",
      "+-------+--------------+\n",
      "only showing top 5 rows\n",
      "\n"
     ]
    }
   ],
   "source": [
    "c.select(expr(\"product\"), expr(\"quantity > 1\")).show(5)"
   ]
  },
  {
   "cell_type": "code",
   "execution_count": 15,
   "metadata": {},
   "outputs": [
    {
     "name": "stdout",
     "output_type": "stream",
     "text": [
      "+----------+--------+--------+-------+--------+-----+--------------+\n",
      "|      date|    time|customer|product|quantity|price|(quantity > 1)|\n",
      "+----------+--------+--------+-------+--------+-----+--------------+\n",
      "|05/10/2018| 2:20 PM|     100|      1|      10|  816|          true|\n",
      "|06/10/2018| 3:30 PM|     100|      1|      10|    1|          true|\n",
      "|07/10/2018| 5:20 PM|     100|      1|      10|   10|          true|\n",
      "|04/08/2018|11:38 PM|     100|      2|       8|   79|          true|\n",
      "|25/03/2018| 3:52 AM|     100|      3|       1|   91|         false|\n",
      "+----------+--------+--------+-------+--------+-----+--------------+\n",
      "only showing top 5 rows\n",
      "\n"
     ]
    }
   ],
   "source": [
    "c.select(expr(\"*\"), expr(\"quantity > 1\")).show(5)"
   ]
  },
  {
   "cell_type": "code",
   "execution_count": 16,
   "metadata": {},
   "outputs": [
    {
     "name": "stdout",
     "output_type": "stream",
     "text": [
      "+----------+--------+--------+-------+--------+-----+----------------+------------+\n",
      "|      date|    time|customer|product|quantity|price|(customer = 100)|(price > 10)|\n",
      "+----------+--------+--------+-------+--------+-----+----------------+------------+\n",
      "|05/10/2018| 2:20 PM|     100|      1|      10|  816|            true|        true|\n",
      "|06/10/2018| 3:30 PM|     100|      1|      10|    1|            true|       false|\n",
      "|07/10/2018| 5:20 PM|     100|      1|      10|   10|            true|       false|\n",
      "|04/08/2018|11:38 PM|     100|      2|       8|   79|            true|        true|\n",
      "|25/03/2018| 3:52 AM|     100|      3|       1|   91|            true|        true|\n",
      "+----------+--------+--------+-------+--------+-----+----------------+------------+\n",
      "only showing top 5 rows\n",
      "\n"
     ]
    }
   ],
   "source": [
    "c.selectExpr(\"*\", \"customer = 100\", \"price > 10\").show(5)"
   ]
  },
  {
   "cell_type": "code",
   "execution_count": 17,
   "metadata": {},
   "outputs": [
    {
     "name": "stdout",
     "output_type": "stream",
     "text": [
      "+----------+--------+--------+-------+--------+-----+-------------------------+\n",
      "|      date|    time|customer|product|quantity|price|(price > (quantity * 10))|\n",
      "+----------+--------+--------+-------+--------+-----+-------------------------+\n",
      "|05/10/2018| 2:20 PM|     100|      1|      10|  816|                     true|\n",
      "|06/10/2018| 3:30 PM|     100|      1|      10|    1|                    false|\n",
      "|07/10/2018| 5:20 PM|     100|      1|      10|   10|                    false|\n",
      "|04/08/2018|11:38 PM|     100|      2|       8|   79|                    false|\n",
      "|25/03/2018| 3:52 AM|     100|      3|       1|   91|                     true|\n",
      "+----------+--------+--------+-------+--------+-----+-------------------------+\n",
      "only showing top 5 rows\n",
      "\n"
     ]
    }
   ],
   "source": [
    "c.selectExpr(\"*\", \"price > quantity*10\").show(5)"
   ]
  },
  {
   "cell_type": "code",
   "execution_count": 21,
   "metadata": {},
   "outputs": [
    {
     "name": "stdout",
     "output_type": "stream",
     "text": [
      "+----------+----------------+\n",
      "|sum(price)|      avg(price)|\n",
      "+----------+----------------+\n",
      "|     51052|50.9500998003992|\n",
      "+----------+----------------+\n",
      "\n"
     ]
    }
   ],
   "source": [
    "c.selectExpr(\"sum(price)\", \"avg(price)\").show()"
   ]
  },
  {
   "cell_type": "code",
   "execution_count": 24,
   "metadata": {},
   "outputs": [
    {
     "name": "stdout",
     "output_type": "stream",
     "text": [
      "+----------------+---------------+\n",
      "|      avg(price)|count(customer)|\n",
      "+----------------+---------------+\n",
      "|50.9500998003992|           1002|\n",
      "+----------------+---------------+\n",
      "\n"
     ]
    }
   ],
   "source": [
    "c.selectExpr(\"avg(price)\", \"count(customer)\").show()"
   ]
  },
  {
   "cell_type": "code",
   "execution_count": 27,
   "metadata": {},
   "outputs": [
    {
     "name": "stdout",
     "output_type": "stream",
     "text": [
      "+----------+--------+--------+-------+--------+-----+\n",
      "|      date|    time|customer|product|quantity|price|\n",
      "+----------+--------+--------+-------+--------+-----+\n",
      "|13/06/2018| 3:02 PM|     101|      4|       8|   63|\n",
      "|06/07/2018|10:35 AM|     101|      5|       8|   42|\n",
      "|13/04/2018| 2:24 AM|     101|      6|       6|   73|\n",
      "|21/12/2017| 3:09 AM|     101|      7|       6|    8|\n",
      "|08/08/2018| 9:16 AM|     101|      9|       0|    4|\n",
      "+----------+--------+--------+-------+--------+-----+\n",
      "only showing top 5 rows\n",
      "\n"
     ]
    }
   ],
   "source": [
    "c.where(expr(\"quantity < 9\")).where(expr(\"customer != 100\")).show(5)"
   ]
  },
  {
   "cell_type": "code",
   "execution_count": 31,
   "metadata": {},
   "outputs": [
    {
     "name": "stdout",
     "output_type": "stream",
     "text": [
      "+--------+\n",
      "|customer|\n",
      "+--------+\n",
      "|     100|\n",
      "|     101|\n",
      "|     101|\n",
      "|     102|\n",
      "|     102|\n",
      "+--------+\n",
      "only showing top 5 rows\n",
      "\n"
     ]
    }
   ],
   "source": [
    "c.selectExpr(\"customer\").where(expr(\"product = 8\")).where(expr(\"quantity >= 7\")).show(5)"
   ]
  },
  {
   "cell_type": "code",
   "execution_count": 32,
   "metadata": {},
   "outputs": [
    {
     "name": "stdout",
     "output_type": "stream",
     "text": [
      "+----------+--------+--------+-------+--------+-----+\n",
      "|      date|    time|customer|product|quantity|price|\n",
      "+----------+--------+--------+-------+--------+-----+\n",
      "|23/06/2018|12:49 AM|     110|      8|       8|    0|\n",
      "|22/08/2018| 3:38 PM|     124|      5|       4|    0|\n",
      "|07/07/2018| 6:23 PM|     112|      6|       4|    0|\n",
      "|16/03/2018|12:21 PM|     107|      3|       7|    0|\n",
      "|03/12/2017| 2:38 PM|     113|      9|       3|    0|\n",
      "+----------+--------+--------+-------+--------+-----+\n",
      "only showing top 5 rows\n",
      "\n"
     ]
    }
   ],
   "source": [
    "c.orderBy(\"price\").show(5)"
   ]
  },
  {
   "cell_type": "code",
   "execution_count": 34,
   "metadata": {},
   "outputs": [
    {
     "name": "stdout",
     "output_type": "stream",
     "text": [
      "+----------+--------+--------+-------+--------+-----+\n",
      "|      date|    time|customer|product|quantity|price|\n",
      "+----------+--------+--------+-------+--------+-----+\n",
      "|24/04/2018| 2:01 PM|     106|      4|       0|    0|\n",
      "|16/03/2018|12:21 PM|     107|      3|       7|    0|\n",
      "|23/06/2018|12:49 AM|     110|      8|       8|    0|\n",
      "|07/07/2018| 6:23 PM|     112|      6|       4|    0|\n",
      "|03/12/2017| 2:38 PM|     113|      9|       3|    0|\n",
      "+----------+--------+--------+-------+--------+-----+\n",
      "only showing top 5 rows\n",
      "\n"
     ]
    }
   ],
   "source": [
    "c.orderBy(\"price\", \"customer\").show(5)"
   ]
  },
  {
   "cell_type": "code",
   "execution_count": 35,
   "metadata": {},
   "outputs": [
    {
     "name": "stdout",
     "output_type": "stream",
     "text": [
      "+----------+--------+--------+-------+--------+-----+\n",
      "|      date|    time|customer|product|quantity|price|\n",
      "+----------+--------+--------+-------+--------+-----+\n",
      "|16/08/2018|12:03 PM|     130|      1|       1|    8|\n",
      "|19/09/2018| 6:31 PM|     130|      5|       7|   14|\n",
      "|25/09/2018| 9:02 PM|     130|      4|       0|   29|\n",
      "|23/05/2018| 2:04 PM|     130|      8|       9|   55|\n",
      "|29/03/2018| 6:13 AM|     130|      3|       6|   69|\n",
      "+----------+--------+--------+-------+--------+-----+\n",
      "only showing top 5 rows\n",
      "\n"
     ]
    }
   ],
   "source": [
    "c.orderBy(desc(\"customer\"), asc(\"price\")).show(5)"
   ]
  },
  {
   "cell_type": "code",
   "execution_count": 36,
   "metadata": {},
   "outputs": [
    {
     "name": "stdout",
     "output_type": "stream",
     "text": [
      "+----------+--------+--------+-------+--------+-----+\n",
      "|      date|    time|customer|product|quantity|price|\n",
      "+----------+--------+--------+-------+--------+-----+\n",
      "|22/05/2018| 2:14 PM|     130|      9|       6|   86|\n",
      "|23/04/2018|12:10 AM|     130|      6|       1|   81|\n",
      "|18/10/2018| 1:24 AM|     130|     10|       8|   75|\n",
      "|29/03/2018| 6:13 AM|     130|      3|       6|   69|\n",
      "|23/05/2018| 2:04 PM|     130|      8|       9|   55|\n",
      "+----------+--------+--------+-------+--------+-----+\n",
      "only showing top 5 rows\n",
      "\n"
     ]
    }
   ],
   "source": [
    "c.where(expr(\"date > '16/09/2018'\")).orderBy(desc(\"customer\"), desc(\"price\")).show(5)"
   ]
  },
  {
   "cell_type": "code",
   "execution_count": 41,
   "metadata": {},
   "outputs": [
    {
     "name": "stdout",
     "output_type": "stream",
     "text": [
      "+--------+-----+\n",
      "|customer|count|\n",
      "+--------+-----+\n",
      "|     108|   33|\n",
      "|     101|   33|\n",
      "|     115|   33|\n",
      "+--------+-----+\n",
      "only showing top 3 rows\n",
      "\n"
     ]
    }
   ],
   "source": [
    "c.groupBy(\"customer\").count().show(3)"
   ]
  },
  {
   "cell_type": "code",
   "execution_count": 42,
   "metadata": {},
   "outputs": [
    {
     "name": "stdout",
     "output_type": "stream",
     "text": [
      "+--------+-------------+\n",
      "|customer|sum(quantity)|\n",
      "+--------+-------------+\n",
      "|     108|          129|\n",
      "|     101|          196|\n",
      "|     115|          143|\n",
      "|     126|          137|\n",
      "|     103|          137|\n",
      "+--------+-------------+\n",
      "only showing top 5 rows\n",
      "\n"
     ]
    }
   ],
   "source": [
    "c.groupBy(\"customer\").agg(expr(\"sum(quantity)\")).show(5)"
   ]
  },
  {
   "cell_type": "code",
   "execution_count": 44,
   "metadata": {},
   "outputs": [
    {
     "name": "stdout",
     "output_type": "stream",
     "text": [
      "+--------+-------------+-----------------+------------------+------------------+\n",
      "|customer|avg(customer)|     avg(product)|     avg(quantity)|        avg(price)|\n",
      "+--------+-------------+-----------------+------------------+------------------+\n",
      "|     108|        108.0|5.545454545454546| 3.909090909090909| 49.93939393939394|\n",
      "|     101|        101.0|5.454545454545454|5.9393939393939394| 49.27272727272727|\n",
      "|     115|        115.0|5.636363636363637| 4.333333333333333|49.666666666666664|\n",
      "+--------+-------------+-----------------+------------------+------------------+\n",
      "only showing top 3 rows\n",
      "\n"
     ]
    }
   ],
   "source": [
    "c.groupBy(\"customer\").avg().show(3)"
   ]
  },
  {
   "cell_type": "code",
   "execution_count": 45,
   "metadata": {},
   "outputs": [
    {
     "name": "stdout",
     "output_type": "stream",
     "text": [
      "+--------+------------------+--------------------+\n",
      "|customer|     avg(quantity)|stddev_pop(quantity)|\n",
      "+--------+------------------+--------------------+\n",
      "|     108| 3.909090909090909|    2.83232035043586|\n",
      "|     101|5.9393939393939394|  2.8170411507132362|\n",
      "|     115| 4.333333333333333|  3.1107503398324456|\n",
      "+--------+------------------+--------------------+\n",
      "only showing top 3 rows\n",
      "\n"
     ]
    }
   ],
   "source": [
    "c.groupBy(\"customer\").agg(expr(\"avg(quantity)\"), expr(\"stddev_pop(quantity)\")).show(3)"
   ]
  },
  {
   "cell_type": "code",
   "execution_count": 46,
   "metadata": {},
   "outputs": [
    {
     "name": "stdout",
     "output_type": "stream",
     "text": [
      "+--------+------------------+----------+\n",
      "|customer|     avg(quantity)|max(price)|\n",
      "+--------+------------------+----------+\n",
      "|     108| 3.909090909090909|        99|\n",
      "|     101|5.9393939393939394|        93|\n",
      "|     115| 4.333333333333333|        98|\n",
      "+--------+------------------+----------+\n",
      "only showing top 3 rows\n",
      "\n"
     ]
    }
   ],
   "source": [
    "c.groupBy(\"customer\").agg(expr(\"avg(quantity)\"), expr(\"max(price)\")).show(3)"
   ]
  },
  {
   "cell_type": "code",
   "execution_count": 182,
   "metadata": {},
   "outputs": [],
   "source": [
    "products = spark.read.option(\"inferSchema\",\"true\").option(\"header\",\n",
    "\"true\").csv(\"/home/alumno/Escritorio/spark/products.csv\")"
   ]
  },
  {
   "cell_type": "code",
   "execution_count": 189,
   "metadata": {},
   "outputs": [
    {
     "name": "stdout",
     "output_type": "stream",
     "text": [
      "+----+-----+------+\n",
      "|  ID| NAME| COLOR|\n",
      "+----+-----+------+\n",
      "|1234|chair|  blue|\n",
      "|   1|table| black|\n",
      "|   2|  jar| white|\n",
      "|   3|  pan|   red|\n",
      "|   4| fork|silver|\n",
      "|   5|spoon|silver|\n",
      "|   6|chair| black|\n",
      "+----+-----+------+\n",
      "\n"
     ]
    }
   ],
   "source": [
    "products.show()"
   ]
  },
  {
   "cell_type": "code",
   "execution_count": 183,
   "metadata": {},
   "outputs": [],
   "source": [
    "stock = spark.read.option(\"inferSchema\",\"true\").option(\"header\",\n",
    "\"true\").csv(\"/home/alumno/Escritorio/spark/stock.csv\")"
   ]
  },
  {
   "cell_type": "code",
   "execution_count": 190,
   "metadata": {},
   "outputs": [
    {
     "name": "stdout",
     "output_type": "stream",
     "text": [
      "+----+-----+--------+\n",
      "|  ID|PRICE|STOCKNUM|\n",
      "+----+-----+--------+\n",
      "|1234|  125|    1000|\n",
      "|   1|  816|     100|\n",
      "|   2|   46|       1|\n",
      "|   3|   54|      22|\n",
      "+----+-----+--------+\n",
      "\n"
     ]
    }
   ],
   "source": [
    "stock.show()"
   ]
  },
  {
   "cell_type": "code",
   "execution_count": 194,
   "metadata": {},
   "outputs": [
    {
     "name": "stdout",
     "output_type": "stream",
     "text": [
      "+----+-----+-----+----+-----+--------+\n",
      "|  ID| NAME|COLOR|  ID|PRICE|STOCKNUM|\n",
      "+----+-----+-----+----+-----+--------+\n",
      "|1234|chair| blue|1234|  125|    1000|\n",
      "|   1|table|black|   1|  816|     100|\n",
      "|   2|  jar|white|   2|   46|       1|\n",
      "|   3|  pan|  red|   3|   54|      22|\n",
      "+----+-----+-----+----+-----+--------+\n",
      "\n"
     ]
    }
   ],
   "source": [
    "joined_inner = products.join(stock, products[\"id\"] == stock[\"id\"], \"inner\")\n",
    "joined_inner.show()"
   ]
  },
  {
   "cell_type": "code",
   "execution_count": 195,
   "metadata": {},
   "outputs": [
    {
     "name": "stdout",
     "output_type": "stream",
     "text": [
      "+----+-----+------+----+-----+--------+\n",
      "|  ID| NAME| COLOR|  ID|PRICE|STOCKNUM|\n",
      "+----+-----+------+----+-----+--------+\n",
      "|   1|table| black|   1|  816|     100|\n",
      "|   2|  jar| white|   2|   46|       1|\n",
      "|   3|  pan|   red|   3|   54|      22|\n",
      "|   4| fork|silver|null| null|    null|\n",
      "|   5|spoon|silver|null| null|    null|\n",
      "|   6|chair| black|null| null|    null|\n",
      "|1234|chair|  blue|1234|  125|    1000|\n",
      "+----+-----+------+----+-----+--------+\n",
      "\n"
     ]
    }
   ],
   "source": [
    "joined_outer = products.join(stock, products[\"id\"] == stock[\"id\"], \"outer\")\n",
    "joined_outer.show()"
   ]
  },
  {
   "cell_type": "code",
   "execution_count": 196,
   "metadata": {},
   "outputs": [
    {
     "name": "stdout",
     "output_type": "stream",
     "text": [
      "+----+-----+------+----+-----+--------+\n",
      "|  ID| NAME| COLOR|  ID|PRICE|STOCKNUM|\n",
      "+----+-----+------+----+-----+--------+\n",
      "|1234|chair|  blue|1234|  125|    1000|\n",
      "|   1|table| black|   1|  816|     100|\n",
      "|   2|  jar| white|   2|   46|       1|\n",
      "|   3|  pan|   red|   3|   54|      22|\n",
      "|   4| fork|silver|null| null|    null|\n",
      "|   5|spoon|silver|null| null|    null|\n",
      "|   6|chair| black|null| null|    null|\n",
      "+----+-----+------+----+-----+--------+\n",
      "\n"
     ]
    }
   ],
   "source": [
    "joined_left = products.join(stock, products[\"id\"] == stock[\"id\"], \"left\")\n",
    "joined_left.show()"
   ]
  },
  {
   "cell_type": "code",
   "execution_count": 197,
   "metadata": {},
   "outputs": [
    {
     "name": "stdout",
     "output_type": "stream",
     "text": [
      "+----+-----+-----+----+-----+--------+\n",
      "|  ID| NAME|COLOR|  ID|PRICE|STOCKNUM|\n",
      "+----+-----+-----+----+-----+--------+\n",
      "|1234|chair| blue|1234|  125|    1000|\n",
      "|   1|table|black|   1|  816|     100|\n",
      "|   2|  jar|white|   2|   46|       1|\n",
      "|   3|  pan|  red|   3|   54|      22|\n",
      "+----+-----+-----+----+-----+--------+\n",
      "\n"
     ]
    }
   ],
   "source": [
    "joined_right = products.join(stock, products[\"id\"] == stock[\"id\"], \"right\")\n",
    "joined_right.show()"
   ]
  },
  {
   "cell_type": "code",
   "execution_count": 200,
   "metadata": {},
   "outputs": [
    {
     "name": "stdout",
     "output_type": "stream",
     "text": [
      "+----+-----+------+----+-----+--------+\n",
      "|  ID| NAME| COLOR|  ID|PRICE|STOCKNUM|\n",
      "+----+-----+------+----+-----+--------+\n",
      "|1234|chair|  blue|1234|  125|    1000|\n",
      "|1234|chair|  blue|   1|  816|     100|\n",
      "|1234|chair|  blue|   2|   46|       1|\n",
      "|1234|chair|  blue|   3|   54|      22|\n",
      "|   1|table| black|1234|  125|    1000|\n",
      "|   1|table| black|   1|  816|     100|\n",
      "|   1|table| black|   2|   46|       1|\n",
      "|   1|table| black|   3|   54|      22|\n",
      "|   2|  jar| white|1234|  125|    1000|\n",
      "|   2|  jar| white|   1|  816|     100|\n",
      "|   2|  jar| white|   2|   46|       1|\n",
      "|   2|  jar| white|   3|   54|      22|\n",
      "|   3|  pan|   red|1234|  125|    1000|\n",
      "|   3|  pan|   red|   1|  816|     100|\n",
      "|   3|  pan|   red|   2|   46|       1|\n",
      "|   3|  pan|   red|   3|   54|      22|\n",
      "|   4| fork|silver|1234|  125|    1000|\n",
      "|   4| fork|silver|   1|  816|     100|\n",
      "|   4| fork|silver|   2|   46|       1|\n",
      "|   4| fork|silver|   3|   54|      22|\n",
      "+----+-----+------+----+-----+--------+\n",
      "only showing top 20 rows\n",
      "\n"
     ]
    }
   ],
   "source": [
    "joined_semi = products.join(stock)\n",
    "joined_semi.show()"
   ]
  },
  {
   "cell_type": "markdown",
   "metadata": {},
   "source": [
    "# Questions are answered here:"
   ]
  },
  {
   "cell_type": "markdown",
   "metadata": {},
   "source": [
    "### 1 - How many elements can we find (in our DataFrame)?\n",
    "\n",
    "> We will use the `.count()` function with all elements selected with `.select('*')`. The code is self explanatory."
   ]
  },
  {
   "cell_type": "code",
   "execution_count": 11,
   "metadata": {},
   "outputs": [
    {
     "name": "stdout",
     "output_type": "stream",
     "text": [
      "There are 1002 elements in the DataFrame.\n"
     ]
    }
   ],
   "source": [
    "num_elements = c.select(\"*\").count()\n",
    "print(f'There are {num_elements} elements in the DataFrame.')"
   ]
  },
  {
   "cell_type": "markdown",
   "metadata": {},
   "source": [
    "### 2 - How many unique customers can we find in the DataFrame?\n",
    "\n",
    "> To find the number of unique customers we have to look through all the customers that appear in the Dataframe. This is done with `.select('customer')`. All customers are shown, but they are repeated as many times as they appear, which means, many times as transactions they have made.\n",
    "\n",
    "> To show only one instance of each customer we have to use the `.distinct()` function. Now, since we have all the customers only once we can use again the `.count()` function."
   ]
  },
  {
   "cell_type": "code",
   "execution_count": 12,
   "metadata": {},
   "outputs": [
    {
     "name": "stdout",
     "output_type": "stream",
     "text": [
      "In total, there are 31 unique customers in the DataFrame.\n"
     ]
    }
   ],
   "source": [
    "n_uniqueCus = c.select(\"customer\").distinct().count()\n",
    "print(f'In total, there are {n_uniqueCus} unique customers in the DataFrame.')"
   ]
  },
  {
   "cell_type": "markdown",
   "metadata": {},
   "source": [
    "### 3 - How many products were purchased by each customer?\n",
    "\n",
    "> In our dataframe, the \"quantity\" values show how many products have been purchased by X customer in one transaction. Knowing this, we can group all transactions from all independent customers and count the sum of the total bought products.\n",
    "\n",
    "In Spark, this is done in the following way: \n",
    "\n",
    "> We will group each customer's information so we have all data together. A new table will be created with the customers' ID. This is done with `.groupBy(\"customer\")`. Now, to that table we will aggregate the total quantity of products each customer has purchased independently. The aggregation is done with .agg() and the sum of all products is done with `.expr(\"sum(quantity)\")`. Added together, the table below is created:"
   ]
  },
  {
   "cell_type": "code",
   "execution_count": 13,
   "metadata": {},
   "outputs": [
    {
     "name": "stdout",
     "output_type": "stream",
     "text": [
      "The following table shows all the products each customer has purchased over time:\n",
      "+--------+-------------+\n",
      "|customer|sum(quantity)|\n",
      "+--------+-------------+\n",
      "|     108|          129|\n",
      "|     101|          196|\n",
      "|     115|          143|\n",
      "+--------+-------------+\n",
      "only showing top 3 rows\n",
      "\n"
     ]
    }
   ],
   "source": [
    "customers_quantity = c.groupBy(\"customer\").agg(expr(\"sum(quantity)\"))\n",
    "print('The following table shows all the products each customer has purchased over time:')\n",
    "customers_quantity.show(3)"
   ]
  },
  {
   "cell_type": "markdown",
   "metadata": {},
   "source": [
    "### 4 - Sort customers by quantity.\n",
    "\n",
    "> If we want to sort customers by quantity, we have to retrieve the total of the sum of the purchased products for each customer as we did before. Luckily, we did that on the exercise before! Now we just have to order it in descending order (from bigger to lower) with respect to the `\"sum(quantity)\"` values. A function exists for that in Spark. It is `.orderBy()`. If we add the `desc()` function, we impose the descending order. Inside that function we will input the name of the column we want to order.\n",
    "\n",
    "_I will change the name of the column `sum(quantity)` to `total-purchases` for better understanding._"
   ]
  },
  {
   "cell_type": "code",
   "execution_count": 16,
   "metadata": {},
   "outputs": [
    {
     "name": "stdout",
     "output_type": "stream",
     "text": [
      "+--------+---------------+\n",
      "|customer|total_purchases|\n",
      "+--------+---------------+\n",
      "|     101|            196|\n",
      "|     122|            179|\n",
      "|     117|            176|\n",
      "+--------+---------------+\n",
      "only showing top 3 rows\n",
      "\n"
     ]
    }
   ],
   "source": [
    "customers_quantity = customers_quantity.withColumnRenamed('sum(quantity)', 'total_purchases')\n",
    "customers_quantity.orderBy(desc('total_purchases')).show(3)"
   ]
  },
  {
   "cell_type": "markdown",
   "metadata": {},
   "source": [
    "### 5 - How many times customer ID number 100 has purchased more than 5 items?\n",
    "\n",
    "> For this question we will have to look for a specific value. This is done with the `.where()` query. Inside we will type the condition we want the output to satisfy. In this case, ID must be 100. This is done with the function `expr(\"customer = 100)`."
   ]
  },
  {
   "cell_type": "code",
   "execution_count": 20,
   "metadata": {},
   "outputs": [
    {
     "name": "stdout",
     "output_type": "stream",
     "text": [
      "In this table we have all information about customer 100:\n",
      "+----------+-------+--------+-------+--------+-----+\n",
      "|      date|   time|customer|product|quantity|price|\n",
      "+----------+-------+--------+-------+--------+-----+\n",
      "|05/10/2018|2:20 PM|     100|      1|      10|  816|\n",
      "|06/10/2018|3:30 PM|     100|      1|      10|    1|\n",
      "|07/10/2018|5:20 PM|     100|      1|      10|   10|\n",
      "+----------+-------+--------+-------+--------+-----+\n",
      "only showing top 3 rows\n",
      "\n"
     ]
    }
   ],
   "source": [
    "customer100 = c.where(expr(\"customer = 100\"))\n",
    "print('In this table we have all information about customer 100:')\n",
    "customer100.show(3)"
   ]
  },
  {
   "cell_type": "markdown",
   "metadata": {},
   "source": [
    "> From this table we can extract the rest of the information we need. In this case, we will add another `.where()` query, this time asking for transactions of a quantity bigger than 5. We will ad that expression:"
   ]
  },
  {
   "cell_type": "code",
   "execution_count": 23,
   "metadata": {},
   "outputs": [
    {
     "name": "stdout",
     "output_type": "stream",
     "text": [
      "This are customer 100 transactions' with quantity higher than 5:\n",
      "\n",
      "+----------+-------+--------+-------+--------+-----+\n",
      "|      date|   time|customer|product|quantity|price|\n",
      "+----------+-------+--------+-------+--------+-----+\n",
      "|05/10/2018|2:20 PM|     100|      1|      10|  816|\n",
      "|06/10/2018|3:30 PM|     100|      1|      10|    1|\n",
      "|07/10/2018|5:20 PM|     100|      1|      10|   10|\n",
      "+----------+-------+--------+-------+--------+-----+\n",
      "only showing top 3 rows\n",
      "\n"
     ]
    }
   ],
   "source": [
    "moreThan5 = customer100.where(expr(\"quantity > 5\"))\n",
    "print(\"This are customer 100 transactions' with quantity higher than 5:\\n\")\n",
    "moreThan5.show(3)"
   ]
  },
  {
   "cell_type": "markdown",
   "metadata": {},
   "source": [
    "> To know how many times we just have to count the number of transactions of that last table:"
   ]
  },
  {
   "cell_type": "code",
   "execution_count": 24,
   "metadata": {},
   "outputs": [
    {
     "name": "stdout",
     "output_type": "stream",
     "text": [
      "Customer 100 has made 16 transactions in which it has purchased more than 5 items.\n"
     ]
    }
   ],
   "source": [
    "total = moreThan5.count()\n",
    "print(f'Customer 100 has made {total} transactions in which it has purchased more than 5 items.')"
   ]
  },
  {
   "cell_type": "markdown",
   "metadata": {},
   "source": [
    "**_Note that this can be written in a single line. I just splitted it looking for explainability:_**\n",
    "\n",
    "```Python\n",
    "c.where(expr(\"customer = 100\")).where(expr(\"quantity > 5\")).count()\n",
    "```"
   ]
  },
  {
   "cell_type": "markdown",
   "metadata": {},
   "source": [
    "### 6 - Which were the products bought by customer with the largest number of transactions?\n",
    "\n",
    "#### _We are interested in the customer that has done more purchases. You do not need to consider quantities of products, just how many times a customer has done a transaction._\n",
    "\n",
    "> First, we need to count all the transactions that each of the customer have done. This way we will be able to retrieve the highest number of purchases."
   ]
  },
  {
   "cell_type": "code",
   "execution_count": 34,
   "metadata": {},
   "outputs": [
    {
     "name": "stdout",
     "output_type": "stream",
     "text": [
      "Now we have the maximum number of transactions in the whole DataFrame:\n",
      "\n",
      "+----------+\n",
      "|max(count)|\n",
      "+----------+\n",
      "|        35|\n",
      "+----------+\n",
      "\n"
     ]
    }
   ],
   "source": [
    "all_transactions = c.groupBy(\"customer\").count()\n",
    "max_customer = all_transactions.agg(expr(\"max(count)\"))\n",
    "print(f'Now we have the maximum number of transactions in the whole DataFrame:\\n')\n",
    "max_customer.show()"
   ]
  },
  {
   "cell_type": "markdown",
   "metadata": {},
   "source": [
    "> We will store that value in a Python variable so that we can use it in the future for the complete implementation of the problem:"
   ]
  },
  {
   "cell_type": "code",
   "execution_count": 35,
   "metadata": {},
   "outputs": [
    {
     "name": "stdout",
     "output_type": "stream",
     "text": [
      "The maximum number of transactions done by a customer is 35.\n"
     ]
    }
   ],
   "source": [
    "max_transactions = max_customer.collect()[0][0]\n",
    "print(f'The maximum number of transactions done by a customer is {max_transactions}.')"
   ]
  },
  {
   "cell_type": "markdown",
   "metadata": {},
   "source": [
    "> Now we can finally look in our table called `all_transactions` (_remember that the table contains `customer, num-transactions`_) for the user that has done the highest number of transactions. This will be done with the `.where()` function and by satisfiying the query `count = 35`."
   ]
  },
  {
   "cell_type": "code",
   "execution_count": 40,
   "metadata": {
    "scrolled": true
   },
   "outputs": [
    {
     "name": "stdout",
     "output_type": "stream",
     "text": [
      "The customer that has made the highest amount of transactions (35) is 100.\n"
     ]
    }
   ],
   "source": [
    "max_customer = all_transactions.where(expr(f\"count = {max_transactions}\"))\n",
    "customer_id = max_customer.collect()[0][0]\n",
    "print(f'The customer that has made the highest amount of transactions ({max_transactions}) is {customer_id}.')"
   ]
  },
  {
   "cell_type": "markdown",
   "metadata": {},
   "source": [
    "> Finally, knowing which is the customer with highest number of purchases, we can look for which were all the products it has done. To do so, we retrieve the `product` column, but only the instances that belong to customer 100. This will be done with a `.where()`. Afterwards we will use the `.distinct()` function to not repeat any product. Now we have the final set which contains the IDs of all the products the user with the highest number of transactions has bought."
   ]
  },
  {
   "cell_type": "code",
   "execution_count": 43,
   "metadata": {},
   "outputs": [
    {
     "name": "stdout",
     "output_type": "stream",
     "text": [
      "Customer 100, which has made 35 transactions has bought the following products:\n",
      "\n",
      "+-------+\n",
      "|product|\n",
      "+-------+\n",
      "|      1|\n",
      "|      6|\n",
      "|      3|\n",
      "+-------+\n",
      "only showing top 3 rows\n",
      "\n"
     ]
    }
   ],
   "source": [
    "print(f'Customer {customer_id}, which has made {max_transactions} transactions has bought the following products:\\n')\n",
    "c.select(expr(\"product\")).where(f\"customer = {customer_id}\").distinct().show(3)"
   ]
  }
 ],
 "metadata": {
  "kernelspec": {
   "display_name": "Python 3",
   "language": "python",
   "name": "python3"
  },
  "language_info": {
   "codemirror_mode": {
    "name": "ipython",
    "version": 3
   },
   "file_extension": ".py",
   "mimetype": "text/x-python",
   "name": "python",
   "nbconvert_exporter": "python",
   "pygments_lexer": "ipython3",
   "version": "3.8.10"
  }
 },
 "nbformat": 4,
 "nbformat_minor": 4
}
